{
 "cells": [
  {
   "cell_type": "code",
   "execution_count": 71,
   "metadata": {},
   "outputs": [
    {
     "name": "stderr",
     "output_type": "stream",
     "text": [
      "[nltk_data] Downloading package twitter_samples to\n",
      "[nltk_data]     C:\\Users\\julie\\AppData\\Roaming\\nltk_data...\n",
      "[nltk_data]   Package twitter_samples is already up-to-date!\n",
      "[nltk_data] Downloading package stopwords to\n",
      "[nltk_data]     C:\\Users\\julie\\AppData\\Roaming\\nltk_data...\n",
      "[nltk_data]   Package stopwords is already up-to-date!\n",
      "[nltk_data] Downloading package punkt to\n",
      "[nltk_data]     C:\\Users\\julie\\AppData\\Roaming\\nltk_data...\n",
      "[nltk_data]   Package punkt is already up-to-date!\n",
      "[nltk_data] Downloading package wordnet to\n",
      "[nltk_data]     C:\\Users\\julie\\AppData\\Roaming\\nltk_data...\n",
      "[nltk_data]   Package wordnet is already up-to-date!\n",
      "[nltk_data] Downloading package averaged_perceptron_tagger to\n",
      "[nltk_data]     C:\\Users\\julie\\AppData\\Roaming\\nltk_data...\n",
      "[nltk_data]   Package averaged_perceptron_tagger is already up-to-\n",
      "[nltk_data]       date!\n"
     ]
    }
   ],
   "source": [
    "import re\n",
    "import string\n",
    "import itertools\n",
    "import numpy as np\n",
    "import pandas as pd\n",
    "import nltk\n",
    "import seaborn as sns\n",
    "import matplotlib.pyplot as plt\n",
    "import collections\n",
    "from collections import Counter\n",
    "\n",
    "# Download nltk data\n",
    "nltk.download('twitter_samples')\n",
    "nltk.download('stopwords')\n",
    "nltk.download('punkt')\n",
    "nltk.download('wordnet')\n",
    "nltk.download('averaged_perceptron_tagger')\n",
    "\n",
    "\n",
    "from nltk.corpus import stopwords\n",
    "from nltk.stem import PorterStemmer\n",
    "from nltk.stem import WordNetLemmatizer\n",
    "from nltk.tokenize import TweetTokenizer\n",
    "from nltk.corpus import twitter_samples \n",
    "from nltk.corpus import wordnet\n",
    "from nltk.tag import pos_tag_sents\n",
    "\n",
    "from sklearn.model_selection import train_test_split\n",
    "from sklearn.metrics import confusion_matrix\n",
    "\n",
    "from sklearn.feature_extraction.text import CountVectorizer\n",
    "from sklearn.feature_extraction.text import TfidfVectorizer\n",
    "\n",
    "import warnings\n",
    "warnings.filterwarnings('ignore')"
   ]
  },
  {
   "cell_type": "code",
   "execution_count": 109,
   "metadata": {},
   "outputs": [
    {
     "data": {
      "text/html": [
       "<div>\n",
       "<style scoped>\n",
       "    .dataframe tbody tr th:only-of-type {\n",
       "        vertical-align: middle;\n",
       "    }\n",
       "\n",
       "    .dataframe tbody tr th {\n",
       "        vertical-align: top;\n",
       "    }\n",
       "\n",
       "    .dataframe thead th {\n",
       "        text-align: right;\n",
       "    }\n",
       "</style>\n",
       "<table border=\"1\" class=\"dataframe\">\n",
       "  <thead>\n",
       "    <tr style=\"text-align: right;\">\n",
       "      <th></th>\n",
       "      <th>Unnamed: 0</th>\n",
       "      <th>text</th>\n",
       "      <th>tag</th>\n",
       "    </tr>\n",
       "  </thead>\n",
       "  <tbody>\n",
       "    <tr>\n",
       "      <th>0</th>\n",
       "      <td>0</td>\n",
       "      <td>in exotica everybody is watching , and what is...</td>\n",
       "      <td>pos</td>\n",
       "    </tr>\n",
       "    <tr>\n",
       "      <th>1</th>\n",
       "      <td>1</td>\n",
       "      <td>some of the gags are so carefully innocuous th...</td>\n",
       "      <td>neg</td>\n",
       "    </tr>\n",
       "    <tr>\n",
       "      <th>2</th>\n",
       "      <td>2</td>\n",
       "      <td>press junkets are a haven for control freaks .</td>\n",
       "      <td>neg</td>\n",
       "    </tr>\n",
       "    <tr>\n",
       "      <th>3</th>\n",
       "      <td>3</td>\n",
       "      <td>then i realized he was , and i was watching it .</td>\n",
       "      <td>neg</td>\n",
       "    </tr>\n",
       "    <tr>\n",
       "      <th>4</th>\n",
       "      <td>4</td>\n",
       "      <td>uh huh .</td>\n",
       "      <td>neg</td>\n",
       "    </tr>\n",
       "  </tbody>\n",
       "</table>\n",
       "</div>"
      ],
      "text/plain": [
       "   Unnamed: 0                                               text  tag\n",
       "0           0  in exotica everybody is watching , and what is...  pos\n",
       "1           1  some of the gags are so carefully innocuous th...  neg\n",
       "2           2     press junkets are a haven for control freaks .  neg\n",
       "3           3   then i realized he was , and i was watching it .  neg\n",
       "4           4                                           uh huh .  neg"
      ]
     },
     "execution_count": 109,
     "metadata": {},
     "output_type": "execute_result"
    }
   ],
   "source": [
    "df = pd.read_csv('NLP_Prueba_2.csv') #cargamos los datos \n",
    "df.head()\n"
   ]
  },
  {
   "cell_type": "code",
   "execution_count": 110,
   "metadata": {
    "scrolled": true
   },
   "outputs": [
    {
     "data": {
      "text/html": [
       "<div>\n",
       "<style scoped>\n",
       "    .dataframe tbody tr th:only-of-type {\n",
       "        vertical-align: middle;\n",
       "    }\n",
       "\n",
       "    .dataframe tbody tr th {\n",
       "        vertical-align: top;\n",
       "    }\n",
       "\n",
       "    .dataframe thead th {\n",
       "        text-align: right;\n",
       "    }\n",
       "</style>\n",
       "<table border=\"1\" class=\"dataframe\">\n",
       "  <thead>\n",
       "    <tr style=\"text-align: right;\">\n",
       "      <th></th>\n",
       "      <th>id</th>\n",
       "      <th>text</th>\n",
       "      <th>tag</th>\n",
       "    </tr>\n",
       "  </thead>\n",
       "  <tbody>\n",
       "    <tr>\n",
       "      <th>0</th>\n",
       "      <td>0</td>\n",
       "      <td>in exotica everybody is watching , and what is...</td>\n",
       "      <td>pos</td>\n",
       "    </tr>\n",
       "    <tr>\n",
       "      <th>1</th>\n",
       "      <td>1</td>\n",
       "      <td>some of the gags are so carefully innocuous th...</td>\n",
       "      <td>neg</td>\n",
       "    </tr>\n",
       "    <tr>\n",
       "      <th>2</th>\n",
       "      <td>2</td>\n",
       "      <td>press junkets are a haven for control freaks .</td>\n",
       "      <td>neg</td>\n",
       "    </tr>\n",
       "    <tr>\n",
       "      <th>3</th>\n",
       "      <td>3</td>\n",
       "      <td>then i realized he was , and i was watching it .</td>\n",
       "      <td>neg</td>\n",
       "    </tr>\n",
       "    <tr>\n",
       "      <th>4</th>\n",
       "      <td>4</td>\n",
       "      <td>uh huh .</td>\n",
       "      <td>neg</td>\n",
       "    </tr>\n",
       "  </tbody>\n",
       "</table>\n",
       "</div>"
      ],
      "text/plain": [
       "   id                                               text  tag\n",
       "0   0  in exotica everybody is watching , and what is...  pos\n",
       "1   1  some of the gags are so carefully innocuous th...  neg\n",
       "2   2     press junkets are a haven for control freaks .  neg\n",
       "3   3   then i realized he was , and i was watching it .  neg\n",
       "4   4                                           uh huh .  neg"
      ]
     },
     "execution_count": 110,
     "metadata": {},
     "output_type": "execute_result"
    }
   ],
   "source": [
    "df = df.rename(columns = {'Unnamed: 0': 'id'})\n",
    "df.head()\n"
   ]
  },
  {
   "cell_type": "code",
   "execution_count": 111,
   "metadata": {},
   "outputs": [
    {
     "data": {
      "text/html": [
       "<div>\n",
       "<style scoped>\n",
       "    .dataframe tbody tr th:only-of-type {\n",
       "        vertical-align: middle;\n",
       "    }\n",
       "\n",
       "    .dataframe tbody tr th {\n",
       "        vertical-align: top;\n",
       "    }\n",
       "\n",
       "    .dataframe thead th {\n",
       "        text-align: right;\n",
       "    }\n",
       "</style>\n",
       "<table border=\"1\" class=\"dataframe\">\n",
       "  <thead>\n",
       "    <tr style=\"text-align: right;\">\n",
       "      <th></th>\n",
       "      <th>text</th>\n",
       "      <th>tag</th>\n",
       "    </tr>\n",
       "    <tr>\n",
       "      <th>id</th>\n",
       "      <th></th>\n",
       "      <th></th>\n",
       "    </tr>\n",
       "  </thead>\n",
       "  <tbody>\n",
       "    <tr>\n",
       "      <th>0</th>\n",
       "      <td>in exotica everybody is watching , and what is...</td>\n",
       "      <td>pos</td>\n",
       "    </tr>\n",
       "    <tr>\n",
       "      <th>1</th>\n",
       "      <td>some of the gags are so carefully innocuous th...</td>\n",
       "      <td>neg</td>\n",
       "    </tr>\n",
       "    <tr>\n",
       "      <th>2</th>\n",
       "      <td>press junkets are a haven for control freaks .</td>\n",
       "      <td>neg</td>\n",
       "    </tr>\n",
       "    <tr>\n",
       "      <th>3</th>\n",
       "      <td>then i realized he was , and i was watching it .</td>\n",
       "      <td>neg</td>\n",
       "    </tr>\n",
       "    <tr>\n",
       "      <th>4</th>\n",
       "      <td>uh huh .</td>\n",
       "      <td>neg</td>\n",
       "    </tr>\n",
       "  </tbody>\n",
       "</table>\n",
       "</div>"
      ],
      "text/plain": [
       "                                                 text  tag\n",
       "id                                                        \n",
       "0   in exotica everybody is watching , and what is...  pos\n",
       "1   some of the gags are so carefully innocuous th...  neg\n",
       "2      press junkets are a haven for control freaks .  neg\n",
       "3    then i realized he was , and i was watching it .  neg\n",
       "4                                            uh huh .  neg"
      ]
     },
     "execution_count": 111,
     "metadata": {},
     "output_type": "execute_result"
    }
   ],
   "source": [
    "df = df.set_index('id')\n",
    "df.head()"
   ]
  },
  {
   "cell_type": "code",
   "execution_count": 112,
   "metadata": {},
   "outputs": [
    {
     "data": {
      "text/plain": [
       "id\n",
       "0    in exotica everybody is watching , and what is...\n",
       "1    some of the gags are so carefully innocuous th...\n",
       "2       press junkets are a haven for control freaks .\n",
       "3     then i realized he was , and i was watching it .\n",
       "4                                             uh huh .\n",
       "5    and my god , couldn't they have done something...\n",
       "6    cage , sinise , and yes , even de palma deserv...\n",
       "7    they are like a couple of kids out exploring t...\n",
       "8    \" idle hands \" is bad , no matter the circumst...\n",
       "9    in this case , the object of darryl's amor is ...\n",
       "Name: text, dtype: object"
      ]
     },
     "execution_count": 112,
     "metadata": {},
     "output_type": "execute_result"
    }
   ],
   "source": [
    "df.text.head(10)"
   ]
  },
  {
   "cell_type": "code",
   "execution_count": 113,
   "metadata": {},
   "outputs": [
    {
     "data": {
      "text/plain": [
       "id\n",
       "29400    the national alliance for the mentally ill eve...\n",
       "29401    aside from a brief glimpse of erotic encounter...\n",
       "29402    they're on this caribbean cruise for pleasure ...\n",
       "29403      wouldn't the flames burn off the fingerprints ?\n",
       "29404    the answer is a sick-and-twisted yes - and vie...\n",
       "29405    roro ( nicknamed \" jalla \" ) is having family ...\n",
       "29406                  in three days time , or something .\n",
       "29407    director nicholas hytner is guilty of encourag...\n",
       "29408        neighbor runs a small failing grocery store .\n",
       "29409    what i admire most about city of angels is its...\n",
       "Name: text, dtype: object"
      ]
     },
     "execution_count": 113,
     "metadata": {},
     "output_type": "execute_result"
    }
   ],
   "source": [
    "df.text.tail(10) #Se puede decir que los datos corresponden a reviews de una película"
   ]
  },
  {
   "cell_type": "code",
   "execution_count": 114,
   "metadata": {
    "scrolled": true
   },
   "outputs": [
    {
     "data": {
      "text/plain": [
       "'in exotica everybody is watching , and what is worse , everybody knows .'"
      ]
     },
     "execution_count": 114,
     "metadata": {},
     "output_type": "execute_result"
    }
   ],
   "source": [
    "df.text[0] #Se puede observar el primer review de los datos completo"
   ]
  },
  {
   "cell_type": "code",
   "execution_count": 115,
   "metadata": {},
   "outputs": [
    {
     "data": {
      "text/plain": [
       "'what i admire most about city of angels is its overall presentation .'"
      ]
     },
     "execution_count": 115,
     "metadata": {},
     "output_type": "execute_result"
    }
   ],
   "source": [
    "df.text[29409] #Se puede observar el último review de los datos completo"
   ]
  },
  {
   "cell_type": "code",
   "execution_count": 116,
   "metadata": {
    "scrolled": true
   },
   "outputs": [
    {
     "data": {
      "text/plain": [
       "(29410, 2)"
      ]
     },
     "execution_count": 116,
     "metadata": {},
     "output_type": "execute_result"
    }
   ],
   "source": [
    "df.shape #Se tienen en total 29410 reviews "
   ]
  },
  {
   "cell_type": "code",
   "execution_count": 117,
   "metadata": {
    "scrolled": true
   },
   "outputs": [
    {
     "name": "stdout",
     "output_type": "stream",
     "text": [
      "<class 'pandas.core.frame.DataFrame'>\n",
      "Int64Index: 29410 entries, 0 to 29409\n",
      "Data columns (total 2 columns):\n",
      " #   Column  Non-Null Count  Dtype \n",
      "---  ------  --------------  ----- \n",
      " 0   text    29393 non-null  object\n",
      " 1   tag     29402 non-null  object\n",
      "dtypes: object(2)\n",
      "memory usage: 1.7+ MB\n"
     ]
    }
   ],
   "source": [
    "df.info()"
   ]
  },
  {
   "cell_type": "code",
   "execution_count": 194,
   "metadata": {
    "scrolled": true
   },
   "outputs": [
    {
     "data": {
      "text/plain": [
       "text        0\n",
       "tag         8\n",
       "find_url    0\n",
       "dtype: int64"
      ]
     },
     "execution_count": 194,
     "metadata": {},
     "output_type": "execute_result"
    }
   ],
   "source": [
    "df.isnull().sum()"
   ]
  },
  {
   "cell_type": "code",
   "execution_count": 118,
   "metadata": {},
   "outputs": [],
   "source": [
    "df.text = df.text.astype(str)"
   ]
  },
  {
   "cell_type": "markdown",
   "metadata": {},
   "source": [
    "Vamos a usar la etiqueta que tienen los datos para ver cómo lucen los comentarios positivos y los negativos"
   ]
  },
  {
   "cell_type": "code",
   "execution_count": 119,
   "metadata": {
    "scrolled": false
   },
   "outputs": [
    {
     "data": {
      "text/plain": [
       "0    in exotica everybody is watching , and what is...\n",
       "1    they are like a couple of kids out exploring t...\n",
       "2    unfortunately , sandler is going to make a lot...\n",
       "3    the most amusing harbinger of doom : john denv...\n",
       "4                         it's quite touching really .\n",
       "5    washington's subdued approach is part of the r...\n",
       "6    but jordan succeeds at what i consider the tri...\n",
       "7           it is nothing short of stunning visually .\n",
       "8    on the granger movie gauge of 1 to 10 , \" osmo...\n",
       "9    lawrence quickly sees just how caring and grea...\n",
       "Name: text, dtype: object"
      ]
     },
     "execution_count": 119,
     "metadata": {},
     "output_type": "execute_result"
    }
   ],
   "source": [
    "pos_reviews = df.text[df.tag == 'pos']\n",
    "pos_reviews = pos_reviews.reset_index(drop= True)\n",
    "pos_reviews.head(10)"
   ]
  },
  {
   "cell_type": "code",
   "execution_count": 120,
   "metadata": {},
   "outputs": [
    {
     "name": "stdout",
     "output_type": "stream",
     "text": [
      "Total de comentarios Positivos: 3968\n"
     ]
    }
   ],
   "source": [
    "print('Total de comentarios Positivos:',len(pos_reviews))"
   ]
  },
  {
   "cell_type": "code",
   "execution_count": 121,
   "metadata": {
    "scrolled": false
   },
   "outputs": [
    {
     "data": {
      "text/plain": [
       "0    some of the gags are so carefully innocuous th...\n",
       "1       press junkets are a haven for control freaks .\n",
       "2     then i realized he was , and i was watching it .\n",
       "3                                             uh huh .\n",
       "4    and my god , couldn't they have done something...\n",
       "5    cage , sinise , and yes , even de palma deserv...\n",
       "6    \" idle hands \" is bad , no matter the circumst...\n",
       "7    in this case , the object of darryl's amor is ...\n",
       "8    surprising really , when the effects are done ...\n",
       "9    incidentally , if you're afraid i'm giving too...\n",
       "Name: text, dtype: object"
      ]
     },
     "execution_count": 121,
     "metadata": {},
     "output_type": "execute_result"
    }
   ],
   "source": [
    "neg_reviews = df.text[df.tag == 'neg']\n",
    "neg_reviews = neg_reviews.reset_index(drop= True)\n",
    "neg_reviews.head(10)"
   ]
  },
  {
   "cell_type": "code",
   "execution_count": 122,
   "metadata": {
    "scrolled": true
   },
   "outputs": [
    {
     "name": "stdout",
     "output_type": "stream",
     "text": [
      "Total de comentarios Negativos: 25434\n"
     ]
    }
   ],
   "source": [
    "print('Total de comentarios Negativos:',len(neg_reviews))"
   ]
  },
  {
   "cell_type": "markdown",
   "metadata": {},
   "source": [
    "Importante resaltar que se tiene más comentarios negarivos que positivos, también se puede visualizar en el siguiente gráfico:\n"
   ]
  },
  {
   "cell_type": "code",
   "execution_count": 123,
   "metadata": {
    "scrolled": true
   },
   "outputs": [
    {
     "data": {
      "text/plain": [
       "<matplotlib.axes._subplots.AxesSubplot at 0x1d76dae4108>"
      ]
     },
     "execution_count": 123,
     "metadata": {},
     "output_type": "execute_result"
    },
    {
     "data": {
      "image/png": "[encoded data removed]",
      "text/plain": [
       "<Figure size 360x252 with 1 Axes>"
      ]
     },
     "metadata": {},
     "output_type": "display_data"
    }
   ],
   "source": [
    "plt.figure(figsize=(5,3.5)) \n",
    "sns.set() \n",
    "sns.histplot(data=df, x='tag', palette=\"BuGn_r\", hue = 'tag', shrink=.7)"
   ]
  },
  {
   "cell_type": "markdown",
   "metadata": {},
   "source": [
    "Adicionalmente, sería bueno ver es el tamaño de los comentarios y ver cuál es el más pequeño y cual es el más grande, pero no en total de caracteres si no de tokens. Es decir, se va usar el método de tokenización (con la función de la librería `nltk` llamada `nltk.word_tokenize()`que consiste en dividir nuestra cadena de texto (comentario) en una lista de palabras individuales que usualmente se llaman tokens "
   ]
  },
  {
   "cell_type": "code",
   "execution_count": 135,
   "metadata": {},
   "outputs": [
    {
     "data": {
      "text/plain": [
       "1"
      ]
     },
     "execution_count": 135,
     "metadata": {},
     "output_type": "execute_result"
    }
   ],
   "source": [
    "AllReviews = df.text\n",
    "review_words_lengths = AllReviews.apply(lambda x: len(nltk.word_tokenize(x)))\n",
    "\n",
    "min(review_words_lengths)"
   ]
  },
  {
   "cell_type": "code",
   "execution_count": 152,
   "metadata": {
    "scrolled": false
   },
   "outputs": [
    {
     "data": {
      "text/plain": [
       "id\n",
       "319      nan\n",
       "379        .\n",
       "565        .\n",
       "568        ,\n",
       "1019       .\n",
       "        ... \n",
       "27263    nan\n",
       "27913      .\n",
       "27968      .\n",
       "29030      .\n",
       "29043    nan\n",
       "Name: text, Length: 92, dtype: object"
      ]
     },
     "execution_count": 152,
     "metadata": {},
     "output_type": "execute_result"
    }
   ],
   "source": [
    "AllReviews[review_words_lengths[review_words_lengths == 1].index] #obteniendo todos los comentarios con 1 token"
   ]
  },
  {
   "cell_type": "markdown",
   "metadata": {},
   "source": [
    "Al observar los comentarios con 1 token, se evidencia que hay reviews vacios y otros con solo puntos, por lo que habrá que eliminarlos más adelante."
   ]
  },
  {
   "cell_type": "code",
   "execution_count": 142,
   "metadata": {
    "scrolled": true
   },
   "outputs": [
    {
     "name": "stdout",
     "output_type": "stream",
     "text": [
      "nan \n",
      "\n",
      ".\n"
     ]
    }
   ],
   "source": [
    "print(AllReviews[29043], '\\n') \n",
    "print(AllReviews[27913]) "
   ]
  },
  {
   "cell_type": "code",
   "execution_count": 147,
   "metadata": {
    "scrolled": false
   },
   "outputs": [
    {
     "data": {
      "text/plain": [
       "183"
      ]
     },
     "execution_count": 147,
     "metadata": {},
     "output_type": "execute_result"
    }
   ],
   "source": [
    "max(review_words_lengths) #Comentario con mayor número de tokens"
   ]
  },
  {
   "cell_type": "code",
   "execution_count": 151,
   "metadata": {
    "scrolled": true
   },
   "outputs": [
    {
     "data": {
      "text/plain": [
       "id\n",
       "23995    since that plot is incredibly lame and a track...\n",
       "Name: text, dtype: object"
      ]
     },
     "execution_count": 151,
     "metadata": {},
     "output_type": "execute_result"
    }
   ],
   "source": [
    "AllReviews[review_words_lengths[review_words_lengths == max(review_words_lengths)].index]"
   ]
  },
  {
   "cell_type": "code",
   "execution_count": 155,
   "metadata": {},
   "outputs": [
    {
     "name": "stdout",
     "output_type": "stream",
     "text": [
      "since that plot is incredibly lame and a track record of what goes on with it wouldn't be able to carry a commercial let alone a feature film , and because it's a party , there are some more main characters , such as : william ( charlie korsmo , finally surfacing after \" dick tracy \" ) , the nerd ( and his dominions ) who has come up with a ridiculous plan to publically sabotage mike , who's humiliated him for years , but gets too caught up in drinking to do it ; kenny ( seth green ) , the wigger , who has decided that this party will be where he will finally get laid ( uh huh ) ; and denise , the only exceptional character , who unfortunately gets stuck in a bathroom ( don't ask ) with kenny where the two characters let down their characters and are allowed to follow the laws of plot cliches from point a to point b with nary a bit of characterization involved after awhile .\n"
     ]
    }
   ],
   "source": [
    "print(AllReviews[23995])"
   ]
  },
  {
   "cell_type": "markdown",
   "metadata": {},
   "source": [
    "## Pre procesamiento de los datos"
   ]
  },
  {
   "cell_type": "markdown",
   "metadata": {},
   "source": [
    "Un punto clave antes de pasar a crear el modelo es el pre proceesamiento de los datos porque es necesario depurarlos antes de hacer uso de ellos y muchos de esos métodos incluyen:\n",
    "\n",
    "- Estandarizar el texto: Minúsculas/Mayúsculas\n",
    "- Remover espacios extra\n",
    "- Eliminar URL's\n",
    "\n",
    "Cuando los datos provienen de redes sociales es de vital importancia realizar el debido pre procesamiento de los datos ya que muchos contienen hashtags, links, emoticones, entre otros. \n",
    "\n",
    "Y aunque este no es el caso de nuestros datos porque como se dijo anteriormente pertenecen alguna página de reviews sobre películas o contenido se van realizar ciertos métodoss  pre procesamiento para garantizar que los datos estén idóneos para la creación del modelo. "
   ]
  },
  {
   "cell_type": "markdown",
   "metadata": {},
   "source": [
    "1. Para este ejercicio se estandarizan todos los comentarios en letras mínusculas haciendo uso de la función `str.lower()`. Cabe mencionar que el las vistas de los datos que se mostraron anteriormente se puede ver que al parecer todos los reviews están en letras minúsculas pero para asegurarse es mejor realizar la estandarización.\n"
   ]
  },
  {
   "cell_type": "code",
   "execution_count": 124,
   "metadata": {
    "scrolled": true
   },
   "outputs": [
    {
     "data": {
      "text/html": [
       "<div>\n",
       "<style scoped>\n",
       "    .dataframe tbody tr th:only-of-type {\n",
       "        vertical-align: middle;\n",
       "    }\n",
       "\n",
       "    .dataframe tbody tr th {\n",
       "        vertical-align: top;\n",
       "    }\n",
       "\n",
       "    .dataframe thead th {\n",
       "        text-align: right;\n",
       "    }\n",
       "</style>\n",
       "<table border=\"1\" class=\"dataframe\">\n",
       "  <thead>\n",
       "    <tr style=\"text-align: right;\">\n",
       "      <th></th>\n",
       "      <th>text</th>\n",
       "      <th>tag</th>\n",
       "    </tr>\n",
       "    <tr>\n",
       "      <th>id</th>\n",
       "      <th></th>\n",
       "      <th></th>\n",
       "    </tr>\n",
       "  </thead>\n",
       "  <tbody>\n",
       "    <tr>\n",
       "      <th>0</th>\n",
       "      <td>in exotica everybody is watching , and what is...</td>\n",
       "      <td>pos</td>\n",
       "    </tr>\n",
       "    <tr>\n",
       "      <th>1</th>\n",
       "      <td>some of the gags are so carefully innocuous th...</td>\n",
       "      <td>neg</td>\n",
       "    </tr>\n",
       "    <tr>\n",
       "      <th>2</th>\n",
       "      <td>press junkets are a haven for control freaks .</td>\n",
       "      <td>neg</td>\n",
       "    </tr>\n",
       "    <tr>\n",
       "      <th>3</th>\n",
       "      <td>then i realized he was , and i was watching it .</td>\n",
       "      <td>neg</td>\n",
       "    </tr>\n",
       "    <tr>\n",
       "      <th>4</th>\n",
       "      <td>uh huh .</td>\n",
       "      <td>neg</td>\n",
       "    </tr>\n",
       "    <tr>\n",
       "      <th>5</th>\n",
       "      <td>and my god , couldn't they have done something...</td>\n",
       "      <td>neg</td>\n",
       "    </tr>\n",
       "    <tr>\n",
       "      <th>6</th>\n",
       "      <td>cage , sinise , and yes , even de palma deserv...</td>\n",
       "      <td>neg</td>\n",
       "    </tr>\n",
       "    <tr>\n",
       "      <th>7</th>\n",
       "      <td>they are like a couple of kids out exploring t...</td>\n",
       "      <td>pos</td>\n",
       "    </tr>\n",
       "    <tr>\n",
       "      <th>8</th>\n",
       "      <td>\" idle hands \" is bad , no matter the circumst...</td>\n",
       "      <td>neg</td>\n",
       "    </tr>\n",
       "    <tr>\n",
       "      <th>9</th>\n",
       "      <td>in this case , the object of darryl's amor is ...</td>\n",
       "      <td>neg</td>\n",
       "    </tr>\n",
       "  </tbody>\n",
       "</table>\n",
       "</div>"
      ],
      "text/plain": [
       "                                                 text  tag\n",
       "id                                                        \n",
       "0   in exotica everybody is watching , and what is...  pos\n",
       "1   some of the gags are so carefully innocuous th...  neg\n",
       "2      press junkets are a haven for control freaks .  neg\n",
       "3    then i realized he was , and i was watching it .  neg\n",
       "4                                            uh huh .  neg\n",
       "5   and my god , couldn't they have done something...  neg\n",
       "6   cage , sinise , and yes , even de palma deserv...  neg\n",
       "7   they are like a couple of kids out exploring t...  pos\n",
       "8   \" idle hands \" is bad , no matter the circumst...  neg\n",
       "9   in this case , the object of darryl's amor is ...  neg"
      ]
     },
     "execution_count": 124,
     "metadata": {},
     "output_type": "execute_result"
    }
   ],
   "source": [
    "def convert_lowercase(reviews):\n",
    "    return reviews.lower()\n",
    "\n",
    "df['text'] = df['text'].apply(lambda k: convert_lowercase(k))\n",
    "\n",
    "df.head(10)"
   ]
  },
  {
   "cell_type": "markdown",
   "metadata": {},
   "source": [
    "2. Se remueven espacios extra tanto antes del texto como después con la función $strip()$."
   ]
  },
  {
   "cell_type": "code",
   "execution_count": 125,
   "metadata": {},
   "outputs": [
    {
     "data": {
      "text/html": [
       "<div>\n",
       "<style scoped>\n",
       "    .dataframe tbody tr th:only-of-type {\n",
       "        vertical-align: middle;\n",
       "    }\n",
       "\n",
       "    .dataframe tbody tr th {\n",
       "        vertical-align: top;\n",
       "    }\n",
       "\n",
       "    .dataframe thead th {\n",
       "        text-align: right;\n",
       "    }\n",
       "</style>\n",
       "<table border=\"1\" class=\"dataframe\">\n",
       "  <thead>\n",
       "    <tr style=\"text-align: right;\">\n",
       "      <th></th>\n",
       "      <th>text</th>\n",
       "      <th>tag</th>\n",
       "    </tr>\n",
       "    <tr>\n",
       "      <th>id</th>\n",
       "      <th></th>\n",
       "      <th></th>\n",
       "    </tr>\n",
       "  </thead>\n",
       "  <tbody>\n",
       "    <tr>\n",
       "      <th>0</th>\n",
       "      <td>in exotica everybody is watching , and what is...</td>\n",
       "      <td>pos</td>\n",
       "    </tr>\n",
       "    <tr>\n",
       "      <th>1</th>\n",
       "      <td>some of the gags are so carefully innocuous th...</td>\n",
       "      <td>neg</td>\n",
       "    </tr>\n",
       "    <tr>\n",
       "      <th>2</th>\n",
       "      <td>press junkets are a haven for control freaks .</td>\n",
       "      <td>neg</td>\n",
       "    </tr>\n",
       "    <tr>\n",
       "      <th>3</th>\n",
       "      <td>then i realized he was , and i was watching it .</td>\n",
       "      <td>neg</td>\n",
       "    </tr>\n",
       "    <tr>\n",
       "      <th>4</th>\n",
       "      <td>uh huh .</td>\n",
       "      <td>neg</td>\n",
       "    </tr>\n",
       "    <tr>\n",
       "      <th>5</th>\n",
       "      <td>and my god , couldn't they have done something...</td>\n",
       "      <td>neg</td>\n",
       "    </tr>\n",
       "    <tr>\n",
       "      <th>6</th>\n",
       "      <td>cage , sinise , and yes , even de palma deserv...</td>\n",
       "      <td>neg</td>\n",
       "    </tr>\n",
       "    <tr>\n",
       "      <th>7</th>\n",
       "      <td>they are like a couple of kids out exploring t...</td>\n",
       "      <td>pos</td>\n",
       "    </tr>\n",
       "    <tr>\n",
       "      <th>8</th>\n",
       "      <td>\" idle hands \" is bad , no matter the circumst...</td>\n",
       "      <td>neg</td>\n",
       "    </tr>\n",
       "    <tr>\n",
       "      <th>9</th>\n",
       "      <td>in this case , the object of darryl's amor is ...</td>\n",
       "      <td>neg</td>\n",
       "    </tr>\n",
       "  </tbody>\n",
       "</table>\n",
       "</div>"
      ],
      "text/plain": [
       "                                                 text  tag\n",
       "id                                                        \n",
       "0   in exotica everybody is watching , and what is...  pos\n",
       "1   some of the gags are so carefully innocuous th...  neg\n",
       "2      press junkets are a haven for control freaks .  neg\n",
       "3    then i realized he was , and i was watching it .  neg\n",
       "4                                            uh huh .  neg\n",
       "5   and my god , couldn't they have done something...  neg\n",
       "6   cage , sinise , and yes , even de palma deserv...  neg\n",
       "7   they are like a couple of kids out exploring t...  pos\n",
       "8   \" idle hands \" is bad , no matter the circumst...  neg\n",
       "9   in this case , the object of darryl's amor is ...  neg"
      ]
     },
     "execution_count": 125,
     "metadata": {},
     "output_type": "execute_result"
    }
   ],
   "source": [
    "def remove_whitespaces(reviews):\n",
    "    return reviews.strip()\n",
    "\n",
    "df['text'] = df['text'].apply(lambda k: remove_whitespaces(k))\n",
    "\n",
    "df.head(10)"
   ]
  },
  {
   "cell_type": "markdown",
   "metadata": {},
   "source": [
    "3. A continuación se van a buscar comentarios que contengan URL's o links que no van a aportar nada a nuestro análisis"
   ]
  },
  {
   "cell_type": "code",
   "execution_count": 173,
   "metadata": {
    "scrolled": true
   },
   "outputs": [
    {
     "data": {
      "text/html": [
       "<div>\n",
       "<style scoped>\n",
       "    .dataframe tbody tr th:only-of-type {\n",
       "        vertical-align: middle;\n",
       "    }\n",
       "\n",
       "    .dataframe tbody tr th {\n",
       "        vertical-align: top;\n",
       "    }\n",
       "\n",
       "    .dataframe thead th {\n",
       "        text-align: right;\n",
       "    }\n",
       "</style>\n",
       "<table border=\"1\" class=\"dataframe\">\n",
       "  <thead>\n",
       "    <tr style=\"text-align: right;\">\n",
       "      <th></th>\n",
       "      <th>text</th>\n",
       "      <th>tag</th>\n",
       "      <th>find_url</th>\n",
       "    </tr>\n",
       "    <tr>\n",
       "      <th>id</th>\n",
       "      <th></th>\n",
       "      <th></th>\n",
       "      <th></th>\n",
       "    </tr>\n",
       "  </thead>\n",
       "  <tbody>\n",
       "    <tr>\n",
       "      <th>0</th>\n",
       "      <td>in exotica everybody is watching , and what is...</td>\n",
       "      <td>pos</td>\n",
       "      <td>-1</td>\n",
       "    </tr>\n",
       "    <tr>\n",
       "      <th>1</th>\n",
       "      <td>some of the gags are so carefully innocuous th...</td>\n",
       "      <td>neg</td>\n",
       "      <td>-1</td>\n",
       "    </tr>\n",
       "    <tr>\n",
       "      <th>2</th>\n",
       "      <td>press junkets are a haven for control freaks .</td>\n",
       "      <td>neg</td>\n",
       "      <td>-1</td>\n",
       "    </tr>\n",
       "    <tr>\n",
       "      <th>3</th>\n",
       "      <td>then i realized he was , and i was watching it .</td>\n",
       "      <td>neg</td>\n",
       "      <td>-1</td>\n",
       "    </tr>\n",
       "    <tr>\n",
       "      <th>4</th>\n",
       "      <td>uh huh .</td>\n",
       "      <td>neg</td>\n",
       "      <td>-1</td>\n",
       "    </tr>\n",
       "    <tr>\n",
       "      <th>5</th>\n",
       "      <td>and my god , couldn't they have done something...</td>\n",
       "      <td>neg</td>\n",
       "      <td>-1</td>\n",
       "    </tr>\n",
       "    <tr>\n",
       "      <th>6</th>\n",
       "      <td>cage , sinise , and yes , even de palma deserv...</td>\n",
       "      <td>neg</td>\n",
       "      <td>-1</td>\n",
       "    </tr>\n",
       "    <tr>\n",
       "      <th>7</th>\n",
       "      <td>they are like a couple of kids out exploring t...</td>\n",
       "      <td>pos</td>\n",
       "      <td>-1</td>\n",
       "    </tr>\n",
       "    <tr>\n",
       "      <th>8</th>\n",
       "      <td>\" idle hands \" is bad , no matter the circumst...</td>\n",
       "      <td>neg</td>\n",
       "      <td>-1</td>\n",
       "    </tr>\n",
       "    <tr>\n",
       "      <th>9</th>\n",
       "      <td>in this case , the object of darryl's amor is ...</td>\n",
       "      <td>neg</td>\n",
       "      <td>-1</td>\n",
       "    </tr>\n",
       "  </tbody>\n",
       "</table>\n",
       "</div>"
      ],
      "text/plain": [
       "                                                 text  tag  find_url\n",
       "id                                                                  \n",
       "0   in exotica everybody is watching , and what is...  pos        -1\n",
       "1   some of the gags are so carefully innocuous th...  neg        -1\n",
       "2      press junkets are a haven for control freaks .  neg        -1\n",
       "3    then i realized he was , and i was watching it .  neg        -1\n",
       "4                                            uh huh .  neg        -1\n",
       "5   and my god , couldn't they have done something...  neg        -1\n",
       "6   cage , sinise , and yes , even de palma deserv...  neg        -1\n",
       "7   they are like a couple of kids out exploring t...  pos        -1\n",
       "8   \" idle hands \" is bad , no matter the circumst...  neg        -1\n",
       "9   in this case , the object of darryl's amor is ...  neg        -1"
      ]
     },
     "execution_count": 173,
     "metadata": {},
     "output_type": "execute_result"
    }
   ],
   "source": [
    "def find_url(reviews):\n",
    "    return reviews.find('http')\n",
    "\n",
    "df['find_url'] = df['text'].apply(lambda k: find_url(k))\n",
    "df.head(10)"
   ]
  },
  {
   "cell_type": "code",
   "execution_count": 174,
   "metadata": {
    "scrolled": true
   },
   "outputs": [
    {
     "data": {
      "text/plain": [
       "-1     29408\n",
       " 40        1\n",
       " 90        1\n",
       "Name: find_url, dtype: int64"
      ]
     },
     "execution_count": 174,
     "metadata": {},
     "output_type": "execute_result"
    }
   ],
   "source": [
    "df['find_url'].value_counts()"
   ]
  },
  {
   "cell_type": "markdown",
   "metadata": {},
   "source": [
    "Y según el conteo que se hizo, vemos que hay 29408 de los comentarios que no contienen links y dos de ellos que si contienen direcciones de páginas web. Por lo que hay que identificarlos y proceder a eliminarlos del comentario.\n"
   ]
  },
  {
   "cell_type": "markdown",
   "metadata": {},
   "source": [
    "Tal como se encontró anteriormente el comentario con mayor número de tokens es el identificado como $23995$ con $183$ tokens pero necesitamos saber cuántos caracteres en total tiene para así defenir un rango como se muestra en la siguiente línea"
   ]
  },
  {
   "cell_type": "code",
   "execution_count": 156,
   "metadata": {},
   "outputs": [
    {
     "name": "stdout",
     "output_type": "stream",
     "text": [
      "887\n"
     ]
    }
   ],
   "source": [
    "print(len(AllReviews[23995])) #un total de 887 caracteres"
   ]
  },
  {
   "cell_type": "code",
   "execution_count": 157,
   "metadata": {
    "scrolled": true
   },
   "outputs": [
    {
     "data": {
      "text/html": [
       "<div>\n",
       "<style scoped>\n",
       "    .dataframe tbody tr th:only-of-type {\n",
       "        vertical-align: middle;\n",
       "    }\n",
       "\n",
       "    .dataframe tbody tr th {\n",
       "        vertical-align: top;\n",
       "    }\n",
       "\n",
       "    .dataframe thead th {\n",
       "        text-align: right;\n",
       "    }\n",
       "</style>\n",
       "<table border=\"1\" class=\"dataframe\">\n",
       "  <thead>\n",
       "    <tr style=\"text-align: right;\">\n",
       "      <th></th>\n",
       "      <th>text</th>\n",
       "      <th>tag</th>\n",
       "      <th>find_url</th>\n",
       "    </tr>\n",
       "    <tr>\n",
       "      <th>id</th>\n",
       "      <th></th>\n",
       "      <th></th>\n",
       "      <th></th>\n",
       "    </tr>\n",
       "  </thead>\n",
       "  <tbody>\n",
       "    <tr>\n",
       "      <th>7213</th>\n",
       "      <td>reviewed by brandon herring 4/29/00 for more r...</td>\n",
       "      <td>neg</td>\n",
       "      <td>90</td>\n",
       "    </tr>\n",
       "    <tr>\n",
       "      <th>23407</th>\n",
       "      <td>it's a worrying fact when the website ( http :...</td>\n",
       "      <td>neg</td>\n",
       "      <td>40</td>\n",
       "    </tr>\n",
       "  </tbody>\n",
       "</table>\n",
       "</div>"
      ],
      "text/plain": [
       "                                                    text  tag  find_url\n",
       "id                                                                     \n",
       "7213   reviewed by brandon herring 4/29/00 for more r...  neg        90\n",
       "23407  it's a worrying fact when the website ( http :...  neg        40"
      ]
     },
     "execution_count": 157,
     "metadata": {},
     "output_type": "execute_result"
    }
   ],
   "source": [
    "with_url = range(887) \n",
    "match_url = df[df['find_url'].isin(with_url)] \n",
    "match_url.head(10)"
   ]
  },
  {
   "cell_type": "code",
   "execution_count": 164,
   "metadata": {
    "scrolled": true
   },
   "outputs": [
    {
     "name": "stdout",
     "output_type": "stream",
     "text": [
      "reviewed by brandon herring 4/29/00 for more reviews please visit movie review central at http : //www . geocities . com/moviefan983/moviereviewcentral . html \n",
      "\n",
      "it's a worrying fact when the website ( http : //www . blairwitch . com\n"
     ]
    }
   ],
   "source": [
    "print(AllReviews[7213], '\\n')\n",
    "print(AllReviews[23407])"
   ]
  },
  {
   "cell_type": "markdown",
   "metadata": {},
   "source": [
    "Una vez identificados los comentarios que contienen URL's se procede a elimarlos usando Expresiones regulares"
   ]
  },
  {
   "cell_type": "code",
   "execution_count": 171,
   "metadata": {
    "scrolled": true
   },
   "outputs": [
    {
     "data": {
      "text/html": [
       "<div>\n",
       "<style scoped>\n",
       "    .dataframe tbody tr th:only-of-type {\n",
       "        vertical-align: middle;\n",
       "    }\n",
       "\n",
       "    .dataframe tbody tr th {\n",
       "        vertical-align: top;\n",
       "    }\n",
       "\n",
       "    .dataframe thead th {\n",
       "        text-align: right;\n",
       "    }\n",
       "</style>\n",
       "<table border=\"1\" class=\"dataframe\">\n",
       "  <thead>\n",
       "    <tr style=\"text-align: right;\">\n",
       "      <th></th>\n",
       "      <th>text</th>\n",
       "      <th>tag</th>\n",
       "      <th>find_url</th>\n",
       "    </tr>\n",
       "    <tr>\n",
       "      <th>id</th>\n",
       "      <th></th>\n",
       "      <th></th>\n",
       "      <th></th>\n",
       "    </tr>\n",
       "  </thead>\n",
       "  <tbody>\n",
       "    <tr>\n",
       "      <th>0</th>\n",
       "      <td>in exotica everybody is watching , and what is...</td>\n",
       "      <td>pos</td>\n",
       "      <td>-1</td>\n",
       "    </tr>\n",
       "    <tr>\n",
       "      <th>1</th>\n",
       "      <td>some of the gags are so carefully innocuous th...</td>\n",
       "      <td>neg</td>\n",
       "      <td>-1</td>\n",
       "    </tr>\n",
       "    <tr>\n",
       "      <th>2</th>\n",
       "      <td>press junkets are a haven for control freaks .</td>\n",
       "      <td>neg</td>\n",
       "      <td>-1</td>\n",
       "    </tr>\n",
       "    <tr>\n",
       "      <th>3</th>\n",
       "      <td>then i realized he was , and i was watching it .</td>\n",
       "      <td>neg</td>\n",
       "      <td>-1</td>\n",
       "    </tr>\n",
       "    <tr>\n",
       "      <th>4</th>\n",
       "      <td>uh huh .</td>\n",
       "      <td>neg</td>\n",
       "      <td>-1</td>\n",
       "    </tr>\n",
       "    <tr>\n",
       "      <th>5</th>\n",
       "      <td>and my god , couldn't they have done something...</td>\n",
       "      <td>neg</td>\n",
       "      <td>-1</td>\n",
       "    </tr>\n",
       "    <tr>\n",
       "      <th>6</th>\n",
       "      <td>cage , sinise , and yes , even de palma deserv...</td>\n",
       "      <td>neg</td>\n",
       "      <td>-1</td>\n",
       "    </tr>\n",
       "    <tr>\n",
       "      <th>7</th>\n",
       "      <td>they are like a couple of kids out exploring t...</td>\n",
       "      <td>pos</td>\n",
       "      <td>-1</td>\n",
       "    </tr>\n",
       "    <tr>\n",
       "      <th>8</th>\n",
       "      <td>\" idle hands \" is bad , no matter the circumst...</td>\n",
       "      <td>neg</td>\n",
       "      <td>-1</td>\n",
       "    </tr>\n",
       "    <tr>\n",
       "      <th>9</th>\n",
       "      <td>in this case , the object of darryl's amor is ...</td>\n",
       "      <td>neg</td>\n",
       "      <td>-1</td>\n",
       "    </tr>\n",
       "  </tbody>\n",
       "</table>\n",
       "</div>"
      ],
      "text/plain": [
       "                                                 text  tag  find_url\n",
       "id                                                                  \n",
       "0   in exotica everybody is watching , and what is...  pos        -1\n",
       "1   some of the gags are so carefully innocuous th...  neg        -1\n",
       "2      press junkets are a haven for control freaks .  neg        -1\n",
       "3    then i realized he was , and i was watching it .  neg        -1\n",
       "4                                            uh huh .  neg        -1\n",
       "5   and my god , couldn't they have done something...  neg        -1\n",
       "6   cage , sinise , and yes , even de palma deserv...  neg        -1\n",
       "7   they are like a couple of kids out exploring t...  pos        -1\n",
       "8   \" idle hands \" is bad , no matter the circumst...  neg        -1\n",
       "9   in this case , the object of darryl's amor is ...  neg        -1"
      ]
     },
     "execution_count": 171,
     "metadata": {},
     "output_type": "execute_result"
    }
   ],
   "source": [
    "def remove_urls(reviews):\n",
    "    url_pattern = re.compile(r'http[s]?://\\S+|www\\.\\S+')\n",
    "    return url_pattern.sub(r'', reviews)\n",
    "\n",
    "df['text'] = df['text'].apply(remove_urls)\n",
    "df.head(10)"
   ]
  },
  {
   "cell_type": "markdown",
   "metadata": {},
   "source": [
    "Comprobamos que efectivamente fueron eliminadas las direcciones de páginas web de los dos comentarios identificados"
   ]
  },
  {
   "cell_type": "code",
   "execution_count": 172,
   "metadata": {
    "scrolled": false
   },
   "outputs": [
    {
     "name": "stdout",
     "output_type": "stream",
     "text": [
      "reviewed by brandon herring 4/29/00 for more reviews please visit movie review central at http : //www . geocities . com/moviefan983/moviereviewcentral . html \n",
      "\n",
      "it's a worrying fact when the website ( http : //www . blairwitch . com\n"
     ]
    }
   ],
   "source": [
    "print(df.text[7213], '\\n')\n",
    "print(df.text[23407])"
   ]
  },
  {
   "cell_type": "markdown",
   "metadata": {},
   "source": [
    "4. Ahora, se van a remover otros caracteres como puntuacción, números, caracteres y espacios"
   ]
  },
  {
   "cell_type": "code",
   "execution_count": 177,
   "metadata": {},
   "outputs": [
    {
     "data": {
      "text/html": [
       "<div>\n",
       "<style scoped>\n",
       "    .dataframe tbody tr th:only-of-type {\n",
       "        vertical-align: middle;\n",
       "    }\n",
       "\n",
       "    .dataframe tbody tr th {\n",
       "        vertical-align: top;\n",
       "    }\n",
       "\n",
       "    .dataframe thead th {\n",
       "        text-align: right;\n",
       "    }\n",
       "</style>\n",
       "<table border=\"1\" class=\"dataframe\">\n",
       "  <thead>\n",
       "    <tr style=\"text-align: right;\">\n",
       "      <th></th>\n",
       "      <th>text</th>\n",
       "      <th>tag</th>\n",
       "    </tr>\n",
       "    <tr>\n",
       "      <th>id</th>\n",
       "      <th></th>\n",
       "      <th></th>\n",
       "    </tr>\n",
       "  </thead>\n",
       "  <tbody>\n",
       "    <tr>\n",
       "      <th>0</th>\n",
       "      <td>in exotica everybody is watching , and what is...</td>\n",
       "      <td>pos</td>\n",
       "    </tr>\n",
       "    <tr>\n",
       "      <th>1</th>\n",
       "      <td>some of the gags are so carefully innocuous th...</td>\n",
       "      <td>neg</td>\n",
       "    </tr>\n",
       "    <tr>\n",
       "      <th>2</th>\n",
       "      <td>press junkets are a haven for control freaks .</td>\n",
       "      <td>neg</td>\n",
       "    </tr>\n",
       "    <tr>\n",
       "      <th>3</th>\n",
       "      <td>then i realized he was , and i was watching it .</td>\n",
       "      <td>neg</td>\n",
       "    </tr>\n",
       "    <tr>\n",
       "      <th>4</th>\n",
       "      <td>uh huh .</td>\n",
       "      <td>neg</td>\n",
       "    </tr>\n",
       "    <tr>\n",
       "      <th>...</th>\n",
       "      <td>...</td>\n",
       "      <td>...</td>\n",
       "    </tr>\n",
       "    <tr>\n",
       "      <th>29405</th>\n",
       "      <td>roro ( nicknamed \" jalla \" ) is having family ...</td>\n",
       "      <td>neg</td>\n",
       "    </tr>\n",
       "    <tr>\n",
       "      <th>29406</th>\n",
       "      <td>in three days time , or something .</td>\n",
       "      <td>neg</td>\n",
       "    </tr>\n",
       "    <tr>\n",
       "      <th>29407</th>\n",
       "      <td>director nicholas hytner is guilty of encourag...</td>\n",
       "      <td>neg</td>\n",
       "    </tr>\n",
       "    <tr>\n",
       "      <th>29408</th>\n",
       "      <td>neighbor runs a small failing grocery store .</td>\n",
       "      <td>neg</td>\n",
       "    </tr>\n",
       "    <tr>\n",
       "      <th>29409</th>\n",
       "      <td>what i admire most about city of angels is its...</td>\n",
       "      <td>pos</td>\n",
       "    </tr>\n",
       "  </tbody>\n",
       "</table>\n",
       "<p>29410 rows × 2 columns</p>\n",
       "</div>"
      ],
      "text/plain": [
       "                                                    text  tag\n",
       "id                                                           \n",
       "0      in exotica everybody is watching , and what is...  pos\n",
       "1      some of the gags are so carefully innocuous th...  neg\n",
       "2         press junkets are a haven for control freaks .  neg\n",
       "3       then i realized he was , and i was watching it .  neg\n",
       "4                                               uh huh .  neg\n",
       "...                                                  ...  ...\n",
       "29405  roro ( nicknamed \" jalla \" ) is having family ...  neg\n",
       "29406                in three days time , or something .  neg\n",
       "29407  director nicholas hytner is guilty of encourag...  neg\n",
       "29408      neighbor runs a small failing grocery store .  neg\n",
       "29409  what i admire most about city of angels is its...  pos\n",
       "\n",
       "[29410 rows x 2 columns]"
      ]
     },
     "execution_count": 177,
     "metadata": {},
     "output_type": "execute_result"
    }
   ],
   "source": [
    "#Creamos un nuevo data frame\n",
    "new_reviews_df = df[['text', 'tag']]\n",
    "new_reviews_df"
   ]
  },
  {
   "cell_type": "code",
   "execution_count": 181,
   "metadata": {},
   "outputs": [],
   "source": [
    "def remove_noise(review):\n",
    "    review = re.sub(\"(@[A-Za-z0–9_]+)\",\"\", review)\n",
    "    review =\"\".join([char if char not in string.punctuation else \" \" for char in review])\n",
    "    review = re.sub(' +', ' ', review) \n",
    "    review = re.sub(\"[0–9]+\",\"\", review)\n",
    "    review = re.sub(\"[^A-Za-z0–9_. ]+\",\"\",review)\n",
    " \n",
    "    return review\n",
    "\n",
    "#Creating a new column called 'tweets' that is going to contain our result.\n",
    "new_reviews_df['new_text'] = new_reviews_df['text'].apply(lambda x: remove_noise(x))\n"
   ]
  },
  {
   "cell_type": "code",
   "execution_count": 182,
   "metadata": {},
   "outputs": [
    {
     "data": {
      "text/html": [
       "<div>\n",
       "<style scoped>\n",
       "    .dataframe tbody tr th:only-of-type {\n",
       "        vertical-align: middle;\n",
       "    }\n",
       "\n",
       "    .dataframe tbody tr th {\n",
       "        vertical-align: top;\n",
       "    }\n",
       "\n",
       "    .dataframe thead th {\n",
       "        text-align: right;\n",
       "    }\n",
       "</style>\n",
       "<table border=\"1\" class=\"dataframe\">\n",
       "  <thead>\n",
       "    <tr style=\"text-align: right;\">\n",
       "      <th></th>\n",
       "      <th>text</th>\n",
       "      <th>tag</th>\n",
       "      <th>new_text</th>\n",
       "    </tr>\n",
       "    <tr>\n",
       "      <th>id</th>\n",
       "      <th></th>\n",
       "      <th></th>\n",
       "      <th></th>\n",
       "    </tr>\n",
       "  </thead>\n",
       "  <tbody>\n",
       "    <tr>\n",
       "      <th>0</th>\n",
       "      <td>in exotica everybody is watching , and what is...</td>\n",
       "      <td>pos</td>\n",
       "      <td>in exotica everybody is watching and what is w...</td>\n",
       "    </tr>\n",
       "    <tr>\n",
       "      <th>1</th>\n",
       "      <td>some of the gags are so carefully innocuous th...</td>\n",
       "      <td>neg</td>\n",
       "      <td>some of the gags are so carefully innocuous th...</td>\n",
       "    </tr>\n",
       "    <tr>\n",
       "      <th>2</th>\n",
       "      <td>press junkets are a haven for control freaks .</td>\n",
       "      <td>neg</td>\n",
       "      <td>press junkets are a haven for control freaks</td>\n",
       "    </tr>\n",
       "    <tr>\n",
       "      <th>3</th>\n",
       "      <td>then i realized he was , and i was watching it .</td>\n",
       "      <td>neg</td>\n",
       "      <td>then i realized he was and i was watching it</td>\n",
       "    </tr>\n",
       "    <tr>\n",
       "      <th>4</th>\n",
       "      <td>uh huh .</td>\n",
       "      <td>neg</td>\n",
       "      <td>uh huh</td>\n",
       "    </tr>\n",
       "    <tr>\n",
       "      <th>...</th>\n",
       "      <td>...</td>\n",
       "      <td>...</td>\n",
       "      <td>...</td>\n",
       "    </tr>\n",
       "    <tr>\n",
       "      <th>29405</th>\n",
       "      <td>roro ( nicknamed \" jalla \" ) is having family ...</td>\n",
       "      <td>neg</td>\n",
       "      <td>roro nicknamed jalla is having family problems</td>\n",
       "    </tr>\n",
       "    <tr>\n",
       "      <th>29406</th>\n",
       "      <td>in three days time , or something .</td>\n",
       "      <td>neg</td>\n",
       "      <td>in three days time or something</td>\n",
       "    </tr>\n",
       "    <tr>\n",
       "      <th>29407</th>\n",
       "      <td>director nicholas hytner is guilty of encourag...</td>\n",
       "      <td>neg</td>\n",
       "      <td>director nicholas hytner is guilty of encourag...</td>\n",
       "    </tr>\n",
       "    <tr>\n",
       "      <th>29408</th>\n",
       "      <td>neighbor runs a small failing grocery store .</td>\n",
       "      <td>neg</td>\n",
       "      <td>neighbor runs a small failing grocery store</td>\n",
       "    </tr>\n",
       "    <tr>\n",
       "      <th>29409</th>\n",
       "      <td>what i admire most about city of angels is its...</td>\n",
       "      <td>pos</td>\n",
       "      <td>what i admire most about city of angels is its...</td>\n",
       "    </tr>\n",
       "  </tbody>\n",
       "</table>\n",
       "<p>29410 rows × 3 columns</p>\n",
       "</div>"
      ],
      "text/plain": [
       "                                                    text  tag  \\\n",
       "id                                                              \n",
       "0      in exotica everybody is watching , and what is...  pos   \n",
       "1      some of the gags are so carefully innocuous th...  neg   \n",
       "2         press junkets are a haven for control freaks .  neg   \n",
       "3       then i realized he was , and i was watching it .  neg   \n",
       "4                                               uh huh .  neg   \n",
       "...                                                  ...  ...   \n",
       "29405  roro ( nicknamed \" jalla \" ) is having family ...  neg   \n",
       "29406                in three days time , or something .  neg   \n",
       "29407  director nicholas hytner is guilty of encourag...  neg   \n",
       "29408      neighbor runs a small failing grocery store .  neg   \n",
       "29409  what i admire most about city of angels is its...  pos   \n",
       "\n",
       "                                                new_text  \n",
       "id                                                        \n",
       "0      in exotica everybody is watching and what is w...  \n",
       "1      some of the gags are so carefully innocuous th...  \n",
       "2          press junkets are a haven for control freaks   \n",
       "3          then i realized he was and i was watching it   \n",
       "4                                                uh huh   \n",
       "...                                                  ...  \n",
       "29405    roro nicknamed jalla is having family problems   \n",
       "29406                   in three days time or something   \n",
       "29407  director nicholas hytner is guilty of encourag...  \n",
       "29408       neighbor runs a small failing grocery store   \n",
       "29409  what i admire most about city of angels is its...  \n",
       "\n",
       "[29410 rows x 3 columns]"
      ]
     },
     "execution_count": 182,
     "metadata": {},
     "output_type": "execute_result"
    }
   ],
   "source": [
    "new_reviews_df"
   ]
  },
  {
   "cell_type": "code",
   "execution_count": 188,
   "metadata": {},
   "outputs": [
    {
     "data": {
      "text/plain": [
       "'neg'"
      ]
     },
     "execution_count": 188,
     "metadata": {},
     "output_type": "execute_result"
    }
   ],
   "source": [
    "new_reviews_df.tag[319]"
   ]
  },
  {
   "cell_type": "code",
   "execution_count": 185,
   "metadata": {},
   "outputs": [
    {
     "data": {
      "text/plain": [
       "' '"
      ]
     },
     "execution_count": 185,
     "metadata": {},
     "output_type": "execute_result"
    }
   ],
   "source": [
    "new_reviews_df.new_text[27968]"
   ]
  },
  {
   "cell_type": "code",
   "execution_count": 189,
   "metadata": {
    "scrolled": true
   },
   "outputs": [
    {
     "name": "stdout",
     "output_type": "stream",
     "text": [
      "id\n",
      "0        0\n",
      "1        0\n",
      "2        0\n",
      "3        0\n",
      "4        0\n",
      "        ..\n",
      "29405    0\n",
      "29406    0\n",
      "29407    0\n",
      "29408    0\n",
      "29409    0\n",
      "Length: 29410, dtype: int64\n"
     ]
    }
   ],
   "source": []
  },
  {
   "cell_type": "code",
   "execution_count": null,
   "metadata": {},
   "outputs": [],
   "source": []
  }
 ],
 "metadata": {
  "kernelspec": {
   "display_name": "Python 3",
   "language": "python",
   "name": "python3"
  },
  "language_info": {
   "codemirror_mode": {
    "name": "ipython",
    "version": 3
   },
   "file_extension": ".py",
   "mimetype": "text/x-python",
   "name": "python",
   "nbconvert_exporter": "python",
   "pygments_lexer": "ipython3",
   "version": "3.7.6"
  }
 },
 "nbformat": 4,
 "nbformat_minor": 4
}
